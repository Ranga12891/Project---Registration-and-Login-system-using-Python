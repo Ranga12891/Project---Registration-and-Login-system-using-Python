{
  "nbformat": 4,
  "nbformat_minor": 0,
  "metadata": {
    "colab": {
      "name": "Proj_1_Reigister & Login using Python File Handling .ipynb",
      "provenance": [],
      "collapsed_sections": [],
      "authorship_tag": "ABX9TyN6u9cP6CP3RvVVrIpBr/tx",
      "include_colab_link": true
    },
    "kernelspec": {
      "name": "python3",
      "display_name": "Python 3"
    },
    "language_info": {
      "name": "python"
    }
  },
  "cells": [
    {
      "cell_type": "markdown",
      "metadata": {
        "id": "view-in-github",
        "colab_type": "text"
      },
      "source": [
        "<a href=\"https://colab.research.google.com/github/Ranga12891/Project---Registration-and-Login-system-using-Python/blob/main/Proj_1_Reigister_%26_Login_using_Python_File_Handling_.ipynb\" target=\"_parent\"><img src=\"https://colab.research.google.com/assets/colab-badge.svg\" alt=\"Open In Colab\"/></a>"
      ]
    },
    {
      "cell_type": "code",
      "execution_count": 10,
      "metadata": {
        "id": "fatYa4WyHXEI"
      },
      "outputs": [],
      "source": [
        "# Global Variable for Data Base\n",
        "\n",
        "''' # User_DB_Dir = '/content/drive/MyDrive/Data_Science/Assignment_1-Registration and Login/User_Database.csv' # Directory of the Database\n",
        "\n",
        "# https://drive.google.com/drive/folders/1Msz42md1Hz4UkQK4sLNqEgK001CBvOO8?usp=sharing\n",
        "\n",
        "# User_DB_Dir = \"https://drive.google.com/file/d/1jWzXtZP054ZU3dwG0_Yqrbu1L-42Ua4T/view?usp=sharing\" '''\n",
        "\n",
        "User_DB_Dir = '/content/drive/MyDrive/User_Database.csv' # Directory of the Database\n",
        "\n"
      ]
    },
    {
      "cell_type": "code",
      "source": [
        "# Connecting my Google Drive\n",
        "\n",
        "from google.colab import drive\n",
        "drive.mount('/content/drive')\n",
        "\n",
        "# Global Variable for Data Base\n",
        "User_DB_Dir = '/content/drive/MyDrive/User_Database.csv' # Directory of the Database\n"
      ],
      "metadata": {
        "colab": {
          "base_uri": "https://localhost:8080/"
        },
        "id": "dg_PK6a73yf-",
        "outputId": "7503c850-ca28-4c11-aaf2-33e9304ff658"
      },
      "execution_count": 8,
      "outputs": [
        {
          "output_type": "stream",
          "name": "stdout",
          "text": [
            "Drive already mounted at /content/drive; to attempt to forcibly remount, call drive.mount(\"/content/drive\", force_remount=True).\n"
          ]
        }
      ]
    },
    {
      "cell_type": "code",
      "source": [
        "# Creating Database as CSV File to store Data\n",
        "import csv\n",
        "Header = ['User_ID','Password']\n",
        "with open(User_DB_Dir,'w',encoding='UTF8') as User_data:\n",
        "  User = csv.writer(User_data)\n",
        "  User.writerow(Header)\n",
        "User_data.close()"
      ],
      "metadata": {
        "id": "ENIK7eLRHunW"
      },
      "execution_count": 9,
      "outputs": []
    },
    {
      "cell_type": "code",
      "source": [
        "# Creating Class to group various Functions\n",
        "\n",
        "class Email() :\n",
        "  \n",
        "  def __init__(self,ID,Key):\n",
        "      self.User = ID\n",
        "      self.PassKey = Key\n",
        "      \n",
        "    \n",
        "  def Validate_User(self): # To validate Email ID\n",
        "    import re\n",
        "    pattern = r'\\b[A-Za-z][A-Za-z0-9._%+-]+@[A-Za-z]+\\.[A-Z|a-z]{2,}\\b'\n",
        "    return bool(re.fullmatch(pattern, self.User))\n",
        "\n",
        "  def Validate_Password(self): # To Validate Password\n",
        "    import re\n",
        "    pattern = r'^(?=.*?[A-Z])(?=.*?[a-z])(?=.*?[0-9])(?=.*?[#?!@$%^&*-]).{5,16}$'\n",
        "    return bool(re.match(pattern, self.PassKey))\n",
        "\n",
        "  def User_exists(self): # to check whether user Exists\n",
        "    import pandas as pd\n",
        "    User_DF = pd.read_csv(User_DB_Dir)\n",
        "    # display(User_DF)\n",
        "\n",
        "    Index = User_DF.loc[User_DF['User_ID'] == self.User].index.values\n",
        "    return True if len(Index) > 0 else  False\n",
        "  \n",
        "  def Change_Password(self): # To Change the Password for the User\n",
        "    import pandas as pd\n",
        "    User_DF = pd.read_csv(User_DB_Dir)\n",
        "    if self.Validate_Password() == True:\n",
        "      if self.User_exists():\n",
        "        User_DF.loc[Index[0], 'Password'] = self.PassKey\n",
        "        # User_DF\n",
        "        User_DF.to_csv(User_DB_Dir, mode='w', index=False, header=True)\n",
        "        print (f\" Password Changed as {self.PassKey} Successfully !!\")\n",
        "      else:\n",
        "        print('User Does Not exixt; Please Register')\n",
        "    else:\n",
        "      print('Enter Valid Password; Password must contain Atleast one Uppercase, LowerCase, Number, Special Character with size 5 to 16 character')\n",
        "\n",
        "  def GetPassword(self): # To get Password of the User\n",
        "    import pandas as pd\n",
        "    User_DF = pd.read_csv(User_DB_Dir)\n",
        "\n",
        "    if User_exists():\n",
        "      Index = User_DF.loc[User_DF['User_ID'] == self.User].index.values\n",
        "      Pass = User_DF.iloc[[Index[0]]]['Password'][0]\n",
        "      return Pass\n",
        "  \n",
        "  def Add_user(self): # To add User in Database\n",
        "\n",
        "    if self.Validate_User():\n",
        "      if self.User_exists() == False:\n",
        "        if self.Validate_Password():\n",
        "          import pandas as pd\n",
        "          User_Details = {\"User_ID\": self.User,\n",
        "                          \"Password\": self.PassKey}\n",
        "\n",
        "          User_DF = pd.DataFrame(User_Details,index = [1])\n",
        "          User_DF.to_csv(User_DB_Dir, mode='a', index=False, header=False)\n",
        "          print('User added Successfully!!')\n",
        "        else:\n",
        "          print('Enter Valid Password; Password must contain Atleast one Uppercase, LowerCase, Number, Special Character with size 5 to 16 character')\n",
        "      else:\n",
        "        print('User Already Exists. Please choose Login')\n",
        "    else:\n",
        "      print('Enter Valid email')\n",
        "\n",
        "  def Get_Choice_forgot_Change_Pass(Choice):\n",
        "    if Choice == 'F' or Choice == 'C':\n",
        "      return Choice\n",
        "    else:\n",
        "      print('Please Enter Valid Choice')\n",
        "      Choice = input(\"Enter 'F' / 'C' to Retrieve/Change Password : \")\n",
        "      Get_Choice_forgot_Change_Pass(Choice)\n",
        "      \n",
        "\n"
      ],
      "metadata": {
        "id": "kCXEZGAyINZJ"
      },
      "execution_count": null,
      "outputs": []
    },
    {
      "cell_type": "markdown",
      "source": [
        "Driver Code"
      ],
      "metadata": {
        "id": "GDN3ke1tIj3S"
      }
    },
    {
      "cell_type": "code",
      "source": [
        "# Get Input from User\n",
        "User_Choice = input(\"Enter 'R' / 'L' to Register/Login : \")\n",
        "Username = input('Enter Mail ID : ')\n",
        "Password = input('Enter Password : ')"
      ],
      "metadata": {
        "colab": {
          "base_uri": "https://localhost:8080/"
        },
        "id": "ja9Gge0OIh_5",
        "outputId": "17543b84-d5d9-4b4c-a306-eaaeb2a22b24"
      },
      "execution_count": null,
      "outputs": [
        {
          "name": "stdout",
          "output_type": "stream",
          "text": [
            "Enter 'R' / 'L' to Register/Login : R\n",
            "Enter Mail ID : ranga.v@gmail.com\n",
            "Enter Password : Adr!th@12\n"
          ]
        }
      ]
    },
    {
      "cell_type": "code",
      "source": [
        "# Processing & Output\n",
        "\n",
        "User_Data = Email(Username,Password)\n",
        "\n",
        "if User_Choice == 'R':\n",
        "  \n",
        "  User_Data.Add_user()\n",
        "\n",
        "elif User_Choice == 'L':\n",
        "  if User_Data.Validate_User():\n",
        "    if User_Data.User_exists() == True:\n",
        "      if User_Data.GetPassword() == Password:\n",
        "        print ('Login Sucess !!!')\n",
        "      else:\n",
        "        print('Incorrect Password')\n",
        "        User_F_C = input(\"Enter 'F' / 'C' to Retrieve/Change Password : \")\n",
        "        if User_Data.Get_Choice_forgot_Change_Pass(User_F_C) == 'F':\n",
        "          print(f\"Password is {User_Data.GetPassword()}\")\n",
        "        else: \n",
        "          User_Data.Change_Password()\n",
        "else:\n",
        "  print('Choice Incorrect')        \n",
        "\n"
      ],
      "metadata": {
        "colab": {
          "base_uri": "https://localhost:8080/"
        },
        "id": "7ee6igK-IqTp",
        "outputId": "729d4d2f-b0ae-48c4-8615-9980cc55832c"
      },
      "execution_count": null,
      "outputs": [
        {
          "output_type": "stream",
          "name": "stdout",
          "text": [
            "User added Successfully!!\n"
          ]
        }
      ]
    }
  ]
}